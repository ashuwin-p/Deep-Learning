{
 "cells": [
  {
   "cell_type": "markdown",
   "id": "adac828d",
   "metadata": {},
   "source": [
    "---\n",
    "##### ***Name : Ashuwin P***\n",
    "##### ***Register No : 3122 22 5002 013***\n",
    "##### ***Course : UIT2721 Deep Learning Concepts and Architectures***\n",
    "##### ***Exercise : 5***\n",
    "##### ***Dataset : OCT2017 (50%)***\n",
    "---"
   ]
  },
  {
   "cell_type": "code",
   "execution_count": 1,
   "id": "f324a18d",
   "metadata": {},
   "outputs": [],
   "source": [
    "import keras\n",
    "from tensorflow.keras.preprocessing.image import ImageDataGenerator\n",
    "from keras.applications.inception_v3 import InceptionV3\n",
    "from keras.layers import Dense, GlobalAveragePooling2D\n",
    "from keras.models import Model\n",
    "from keras import optimizers\n",
    "import matplotlib.pyplot as plt"
   ]
  },
  {
   "cell_type": "code",
   "execution_count": 2,
   "id": "6315352e",
   "metadata": {},
   "outputs": [],
   "source": [
    "train_datagen = ImageDataGenerator(rescale=1./255)\n",
    "test_datagen  = ImageDataGenerator(rescale=1./255)"
   ]
  },
  {
   "cell_type": "code",
   "execution_count": 3,
   "id": "ec0a61f6",
   "metadata": {},
   "outputs": [],
   "source": [
    "train_dir     = '../OCT2017/train/'\n",
    "test_dir      = '../OCT2017/test/'"
   ]
  },
  {
   "cell_type": "code",
   "execution_count": 4,
   "id": "06416c9c",
   "metadata": {},
   "outputs": [
    {
     "name": "stdout",
     "output_type": "stream",
     "text": [
      "Found 12022 images belonging to 2 classes.\n",
      "Found 242 images belonging to 2 classes.\n"
     ]
    }
   ],
   "source": [
    "train_generator = train_datagen.flow_from_directory(train_dir, target_size=(299, 299), \\\n",
    "                                                    batch_size=128, class_mode='categorical')\n",
    "test_generator = test_datagen.flow_from_directory(test_dir, target_size=(299, 299), \\\n",
    "                                                    batch_size=128, class_mode='categorical')"
   ]
  },
  {
   "cell_type": "code",
   "execution_count": 5,
   "id": "c70e2041",
   "metadata": {},
   "outputs": [],
   "source": [
    "# create the base pre-trained model\n",
    "base_model = InceptionV3(weights='imagenet', include_top=False)\n",
    "# Get the output layer from the pre-trained Inception V3 model\n",
    "x = base_model.output"
   ]
  },
  {
   "cell_type": "code",
   "execution_count": 6,
   "id": "5f7aac36",
   "metadata": {},
   "outputs": [],
   "source": [
    "# Now, add new layers that will be trained with our data\n",
    "# These layers will be randomly initialized\n",
    "x = GlobalAveragePooling2D()(x)\n",
    "x = Dense(64, activation='relu')(x)\n",
    "predictions = Dense(2, activation='softmax')(x)"
   ]
  },
  {
   "cell_type": "code",
   "execution_count": 7,
   "id": "55e4211a",
   "metadata": {},
   "outputs": [],
   "source": [
    "# Get the final Model to train\n",
    "model = Model(inputs=base_model.input, outputs=predictions)"
   ]
  },
  {
   "cell_type": "code",
   "execution_count": 8,
   "id": "85ea2efc",
   "metadata": {},
   "outputs": [],
   "source": [
    "# Freeze the layers from the original base model so that we don't update the weights\n",
    "for layer in base_model.layers:\n",
    "    layer.trainable = False"
   ]
  },
  {
   "cell_type": "code",
   "execution_count": 9,
   "id": "a17f0fec",
   "metadata": {},
   "outputs": [],
   "source": [
    "adam = optimizers.Adam(learning_rate=0.001)"
   ]
  },
  {
   "cell_type": "code",
   "execution_count": 10,
   "id": "368a37d5",
   "metadata": {},
   "outputs": [],
   "source": [
    "# Compile the new model\n",
    "model.compile(optimizer=adam, loss='categorical_crossentropy', metrics=['accuracy'])"
   ]
  },
  {
   "cell_type": "code",
   "execution_count": 11,
   "id": "6057d156",
   "metadata": {},
   "outputs": [
    {
     "name": "stderr",
     "output_type": "stream",
     "text": [
      "d:\\SEM7\\UIT2721 Deep Learning\\Lab\\dl\\lib\\site-packages\\keras\\src\\trainers\\data_adapters\\py_dataset_adapter.py:121: UserWarning: Your `PyDataset` class should call `super().__init__(**kwargs)` in its constructor. `**kwargs` can include `workers`, `use_multiprocessing`, `max_queue_size`. Do not pass these arguments to `fit()`, as they will be ignored.\n",
      "  self._warn_if_super_not_called()\n"
     ]
    },
    {
     "name": "stdout",
     "output_type": "stream",
     "text": [
      "Epoch 1/5\n",
      "\u001b[1m94/94\u001b[0m \u001b[32m━━━━━━━━━━━━━━━━━━━━\u001b[0m\u001b[37m\u001b[0m \u001b[1m329s\u001b[0m 3s/step - accuracy: 0.8490 - loss: 0.3464 - val_accuracy: 0.9545 - val_loss: 0.1247\n",
      "Epoch 2/5\n",
      "\u001b[1m94/94\u001b[0m \u001b[32m━━━━━━━━━━━━━━━━━━━━\u001b[0m\u001b[37m\u001b[0m \u001b[1m489s\u001b[0m 5s/step - accuracy: 0.9111 - loss: 0.2239 - val_accuracy: 0.9669 - val_loss: 0.1015\n",
      "Epoch 3/5\n",
      "\u001b[1m94/94\u001b[0m \u001b[32m━━━━━━━━━━━━━━━━━━━━\u001b[0m\u001b[37m\u001b[0m \u001b[1m255s\u001b[0m 3s/step - accuracy: 0.9204 - loss: 0.2025 - val_accuracy: 0.9669 - val_loss: 0.0938\n",
      "Epoch 4/5\n",
      "\u001b[1m94/94\u001b[0m \u001b[32m━━━━━━━━━━━━━━━━━━━━\u001b[0m\u001b[37m\u001b[0m \u001b[1m381s\u001b[0m 4s/step - accuracy: 0.9270 - loss: 0.1840 - val_accuracy: 0.9752 - val_loss: 0.0855\n",
      "Epoch 5/5\n",
      "\u001b[1m94/94\u001b[0m \u001b[32m━━━━━━━━━━━━━━━━━━━━\u001b[0m\u001b[37m\u001b[0m \u001b[1m288s\u001b[0m 3s/step - accuracy: 0.9241 - loss: 0.1937 - val_accuracy: 0.9711 - val_loss: 0.0852\n"
     ]
    }
   ],
   "source": [
    "# Fit the data and output the history\n",
    "history = model.fit(train_generator, verbose=1, steps_per_epoch=len(train_generator), epochs=5, \\\n",
    " validation_data=test_generator, validation_steps=len(test_generator))\n"
   ]
  },
  {
   "cell_type": "code",
   "execution_count": 19,
   "id": "b6875a9a",
   "metadata": {},
   "outputs": [],
   "source": [
    "def plot_history(history):\n",
    "    acc = history.history['accuracy']\n",
    "    val_acc = history.history['val_accuracy']\n",
    "    loss = history.history['loss']\n",
    "    val_loss = history.history['val_loss']\n",
    "\n",
    "    epochs = range(1, len(acc) + 1)\n",
    "\n",
    "    plt.figure()\n",
    "    plt.title('Training and validation accuracy')\n",
    "    plt.plot(epochs, acc, 'bo', label='Training acc')\n",
    "    plt.plot(epochs, val_acc, 'b', color='red', label='Validation acc')\n",
    "    plt.legend()\n",
    "    plt.show()\n",
    "\n",
    "    plt.figure()\n",
    "    plt.title('Training and validation loss')\n",
    "    plt.plot(epochs, loss, 'bo', label='Training loss')\n",
    "    plt.plot(epochs, val_loss, 'b', color='red', label='Validation loss')\n",
    "    plt.legend()\n",
    "    plt.show()\n",
    "    return acc, val_acc, loss, val_loss"
   ]
  },
  {
   "cell_type": "code",
   "execution_count": 20,
   "id": "e623efd9",
   "metadata": {},
   "outputs": [
    {
     "name": "stderr",
     "output_type": "stream",
     "text": [
      "C:\\Users\\ashuw\\AppData\\Local\\Temp\\ipykernel_2628\\2711760573.py:12: UserWarning: color is redundantly defined by the 'color' keyword argument and the fmt string \"b\" (-> color=(0.0, 0.0, 1.0, 1)). The keyword argument will take precedence.\n",
      "  plt.plot(epochs, val_acc, 'b', color='red', label='Validation acc')\n"
     ]
    },
    {
     "data": {
      "image/png": "[encoded data removed]",
      "text/plain": [
       "<Figure size 640x480 with 1 Axes>"
      ]
     },
     "metadata": {},
     "output_type": "display_data"
    },
    {
     "name": "stderr",
     "output_type": "stream",
     "text": [
      "C:\\Users\\ashuw\\AppData\\Local\\Temp\\ipykernel_2628\\2711760573.py:19: UserWarning: color is redundantly defined by the 'color' keyword argument and the fmt string \"b\" (-> color=(0.0, 0.0, 1.0, 1)). The keyword argument will take precedence.\n",
      "  plt.plot(epochs, val_loss, 'b', color='red', label='Validation loss')\n"
     ]
    },
    {
     "data": {
      "image/png": "[encoded data removed]",
      "text/plain": [
       "<Figure size 640x480 with 1 Axes>"
      ]
     },
     "metadata": {},
     "output_type": "display_data"
    }
   ],
   "source": [
    "acc, val_acc, loss, val_loss = plot_history(history)"
   ]
  },
  {
   "cell_type": "code",
   "execution_count": 21,
   "id": "60095499",
   "metadata": {},
   "outputs": [
    {
     "name": "stderr",
     "output_type": "stream",
     "text": [
      "WARNING:absl:You are saving your model as an HDF5 file via `model.save()` or `keras.saving.save_model(model)`. This file format is considered legacy. We recommend using instead the native Keras format, e.g. `model.save('my_model.keras')` or `keras.saving.save_model(model, 'my_model.keras')`. \n"
     ]
    }
   ],
   "source": [
    "model.save(\"oct_inception_model.h5\") "
   ]
  },
  {
   "cell_type": "code",
   "execution_count": null,
   "id": "2ad9aec9",
   "metadata": {},
   "outputs": [],
   "source": []
  }
 ],
 "metadata": {
  "kernelspec": {
   "display_name": "dl",
   "language": "python",
   "name": "python3"
  },
  "language_info": {
   "codemirror_mode": {
    "name": "ipython",
    "version": 3
   },
   "file_extension": ".py",
   "mimetype": "text/x-python",
   "name": "python",
   "nbconvert_exporter": "python",
   "pygments_lexer": "ipython3",
   "version": "3.10.11"
  }
 },
 "nbformat": 4,
 "nbformat_minor": 5
}
